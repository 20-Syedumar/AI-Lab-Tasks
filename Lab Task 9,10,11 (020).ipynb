{
 "cells": [
  {
   "cell_type": "markdown",
   "id": "77cbcb3e",
   "metadata": {},
   "source": [
    "#### importing and preprocing"
   ]
  },
  {
   "cell_type": "code",
   "execution_count": 1,
   "id": "9ada75ac",
   "metadata": {},
   "outputs": [],
   "source": [
    "import pandas as pd\n",
    "import numpy as np\n"
   ]
  },
  {
   "cell_type": "code",
   "execution_count": 2,
   "id": "378d96ed",
   "metadata": {},
   "outputs": [
    {
     "data": {
      "text/html": [
       "<div>\n",
       "<style scoped>\n",
       "    .dataframe tbody tr th:only-of-type {\n",
       "        vertical-align: middle;\n",
       "    }\n",
       "\n",
       "    .dataframe tbody tr th {\n",
       "        vertical-align: top;\n",
       "    }\n",
       "\n",
       "    .dataframe thead th {\n",
       "        text-align: right;\n",
       "    }\n",
       "</style>\n",
       "<table border=\"1\" class=\"dataframe\">\n",
       "  <thead>\n",
       "    <tr style=\"text-align: right;\">\n",
       "      <th></th>\n",
       "      <th>Gender</th>\n",
       "      <th>Height</th>\n",
       "      <th>Weight</th>\n",
       "      <th>BMI</th>\n",
       "      <th>Age</th>\n",
       "      <th>Activity_Level</th>\n",
       "      <th>Smoker</th>\n",
       "      <th>Region</th>\n",
       "    </tr>\n",
       "  </thead>\n",
       "  <tbody>\n",
       "    <tr>\n",
       "      <th>0</th>\n",
       "      <td>Male</td>\n",
       "      <td>174</td>\n",
       "      <td>96</td>\n",
       "      <td>31.708284</td>\n",
       "      <td>56</td>\n",
       "      <td>Very Active</td>\n",
       "      <td>Yes</td>\n",
       "      <td>Urban</td>\n",
       "    </tr>\n",
       "    <tr>\n",
       "      <th>1</th>\n",
       "      <td>Male</td>\n",
       "      <td>189</td>\n",
       "      <td>87</td>\n",
       "      <td>24.355421</td>\n",
       "      <td>46</td>\n",
       "      <td>Very Active</td>\n",
       "      <td>No</td>\n",
       "      <td>Rural</td>\n",
       "    </tr>\n",
       "    <tr>\n",
       "      <th>2</th>\n",
       "      <td>Female</td>\n",
       "      <td>185</td>\n",
       "      <td>110</td>\n",
       "      <td>32.140248</td>\n",
       "      <td>32</td>\n",
       "      <td>Very Active</td>\n",
       "      <td>Yes</td>\n",
       "      <td>Rural</td>\n",
       "    </tr>\n",
       "    <tr>\n",
       "      <th>3</th>\n",
       "      <td>Female</td>\n",
       "      <td>195</td>\n",
       "      <td>104</td>\n",
       "      <td>27.350427</td>\n",
       "      <td>60</td>\n",
       "      <td>Very Active</td>\n",
       "      <td>Yes</td>\n",
       "      <td>Rural</td>\n",
       "    </tr>\n",
       "    <tr>\n",
       "      <th>4</th>\n",
       "      <td>Male</td>\n",
       "      <td>149</td>\n",
       "      <td>61</td>\n",
       "      <td>27.476240</td>\n",
       "      <td>25</td>\n",
       "      <td>Active</td>\n",
       "      <td>Yes</td>\n",
       "      <td>Urban</td>\n",
       "    </tr>\n",
       "    <tr>\n",
       "      <th>...</th>\n",
       "      <td>...</td>\n",
       "      <td>...</td>\n",
       "      <td>...</td>\n",
       "      <td>...</td>\n",
       "      <td>...</td>\n",
       "      <td>...</td>\n",
       "      <td>...</td>\n",
       "      <td>...</td>\n",
       "    </tr>\n",
       "    <tr>\n",
       "      <th>495</th>\n",
       "      <td>Female</td>\n",
       "      <td>150</td>\n",
       "      <td>153</td>\n",
       "      <td>68.000000</td>\n",
       "      <td>36</td>\n",
       "      <td>Lightly Active</td>\n",
       "      <td>No</td>\n",
       "      <td>Rural</td>\n",
       "    </tr>\n",
       "    <tr>\n",
       "      <th>496</th>\n",
       "      <td>Female</td>\n",
       "      <td>184</td>\n",
       "      <td>121</td>\n",
       "      <td>35.739603</td>\n",
       "      <td>49</td>\n",
       "      <td>Very Active</td>\n",
       "      <td>Yes</td>\n",
       "      <td>Urban</td>\n",
       "    </tr>\n",
       "    <tr>\n",
       "      <th>497</th>\n",
       "      <td>Female</td>\n",
       "      <td>141</td>\n",
       "      <td>136</td>\n",
       "      <td>68.407022</td>\n",
       "      <td>18</td>\n",
       "      <td>Lightly Active</td>\n",
       "      <td>Yes</td>\n",
       "      <td>Urban</td>\n",
       "    </tr>\n",
       "    <tr>\n",
       "      <th>498</th>\n",
       "      <td>Male</td>\n",
       "      <td>150</td>\n",
       "      <td>95</td>\n",
       "      <td>42.222222</td>\n",
       "      <td>22</td>\n",
       "      <td>Sedentary</td>\n",
       "      <td>Yes</td>\n",
       "      <td>Urban</td>\n",
       "    </tr>\n",
       "    <tr>\n",
       "      <th>499</th>\n",
       "      <td>Male</td>\n",
       "      <td>173</td>\n",
       "      <td>131</td>\n",
       "      <td>43.770256</td>\n",
       "      <td>62</td>\n",
       "      <td>Lightly Active</td>\n",
       "      <td>No</td>\n",
       "      <td>Urban</td>\n",
       "    </tr>\n",
       "  </tbody>\n",
       "</table>\n",
       "<p>500 rows × 8 columns</p>\n",
       "</div>"
      ],
      "text/plain": [
       "     Gender  Height  Weight        BMI  Age  Activity_Level Smoker Region\n",
       "0      Male     174      96  31.708284   56     Very Active    Yes  Urban\n",
       "1      Male     189      87  24.355421   46     Very Active     No  Rural\n",
       "2    Female     185     110  32.140248   32     Very Active    Yes  Rural\n",
       "3    Female     195     104  27.350427   60     Very Active    Yes  Rural\n",
       "4      Male     149      61  27.476240   25          Active    Yes  Urban\n",
       "..      ...     ...     ...        ...  ...             ...    ...    ...\n",
       "495  Female     150     153  68.000000   36  Lightly Active     No  Rural\n",
       "496  Female     184     121  35.739603   49     Very Active    Yes  Urban\n",
       "497  Female     141     136  68.407022   18  Lightly Active    Yes  Urban\n",
       "498    Male     150      95  42.222222   22       Sedentary    Yes  Urban\n",
       "499    Male     173     131  43.770256   62  Lightly Active     No  Urban\n",
       "\n",
       "[500 rows x 8 columns]"
      ]
     },
     "execution_count": 2,
     "metadata": {},
     "output_type": "execute_result"
    }
   ],
   "source": [
    "df = pd.read_excel('bmi.xlsx', sheet_name='Sheet1')\n",
    "df"
   ]
  },
  {
   "cell_type": "code",
   "execution_count": 3,
   "id": "c94203ce",
   "metadata": {},
   "outputs": [
    {
     "data": {
      "text/plain": [
       "Index(['Gender', 'Height', 'Weight', 'BMI', 'Age', 'Activity_Level', 'Smoker',\n",
       "       'Region'],\n",
       "      dtype='object')"
      ]
     },
     "execution_count": 3,
     "metadata": {},
     "output_type": "execute_result"
    }
   ],
   "source": [
    "df.columns\n"
   ]
  },
  {
   "cell_type": "code",
   "execution_count": 4,
   "id": "dd51c246",
   "metadata": {},
   "outputs": [
    {
     "data": {
      "text/plain": [
       "array(['Male', 'Female'], dtype=object)"
      ]
     },
     "execution_count": 4,
     "metadata": {},
     "output_type": "execute_result"
    }
   ],
   "source": [
    "df['Gender'].unique()"
   ]
  },
  {
   "cell_type": "code",
   "execution_count": 5,
   "id": "e603ea7d",
   "metadata": {},
   "outputs": [
    {
     "data": {
      "text/plain": [
       "array([174, 189, 185, 195, 149, 147, 154, 169, 159, 192, 155, 191, 153,\n",
       "       157, 140, 144, 172, 151, 190, 187, 163, 179, 178, 160, 197, 171,\n",
       "       175, 161, 182, 188, 181, 168, 176, 196, 164, 143, 141, 193, 194,\n",
       "       180, 165, 166, 186, 198, 145, 183, 177, 170, 142, 199, 150, 146,\n",
       "       148, 184, 158, 167, 156, 162, 173, 152])"
      ]
     },
     "execution_count": 5,
     "metadata": {},
     "output_type": "execute_result"
    }
   ],
   "source": [
    "df['Height'].unique()           # heigh is recode in mm"
   ]
  },
  {
   "cell_type": "code",
   "execution_count": 6,
   "id": "d715391a",
   "metadata": {},
   "outputs": [
    {
     "data": {
      "text/plain": [
       "array([ 96,  87, 110, 104,  61,  92, 111,  90, 103,  81,  80, 101,  51,\n",
       "        79, 107, 129, 145, 139, 149,  97,  67,  64,  95,  62, 159, 152,\n",
       "       121,  52,  65, 131, 153, 132, 114, 120, 108,  56, 118, 126,  76,\n",
       "       122,  72, 135,  54, 105, 116,  89, 127,  70,  88, 143,  83, 158,\n",
       "        59,  82, 136, 117,  75, 100, 154, 140, 123,  50, 141, 119, 156,\n",
       "        69, 155, 160, 106,  66, 157,  60,  57, 138, 115, 151, 150, 147,\n",
       "       124,  85, 125, 146,  98,  84, 102,  99,  78, 109,  94,  74,  73,\n",
       "       134, 137, 144,  93,  86, 130,  58, 148,  68,  71,  63,  91, 142,\n",
       "       133,  77, 128, 112,  55,  53])"
      ]
     },
     "execution_count": 6,
     "metadata": {},
     "output_type": "execute_result"
    }
   ],
   "source": [
    "df['Weight'].unique()"
   ]
  },
  {
   "cell_type": "code",
   "execution_count": 7,
   "id": "a8f795a2",
   "metadata": {},
   "outputs": [
    {
     "data": {
      "text/plain": [
       "array([56, 46, 32, 60, 25, 38, 36, 40, 28, 41, 53, 57, 20, 39, 19, 61, 47,\n",
       "       55, 50, 29, 42, 44, 59, 45, 33, 64, 54, 24, 26, 35, 21, 31, 43, 37,\n",
       "       52, 34, 23, 51, 27, 48, 65, 62, 58, 18, 22, 30, 49, 63])"
      ]
     },
     "execution_count": 7,
     "metadata": {},
     "output_type": "execute_result"
    }
   ],
   "source": [
    "df['Age'].unique()"
   ]
  },
  {
   "cell_type": "code",
   "execution_count": 8,
   "id": "24b48f80",
   "metadata": {},
   "outputs": [
    {
     "data": {
      "text/plain": [
       "array(['Very Active', 'Active', 'Lightly Active', 'Sedentary'],\n",
       "      dtype=object)"
      ]
     },
     "execution_count": 8,
     "metadata": {},
     "output_type": "execute_result"
    }
   ],
   "source": [
    "df['Activity_Level'].unique()"
   ]
  },
  {
   "cell_type": "code",
   "execution_count": 9,
   "id": "efc375d6",
   "metadata": {},
   "outputs": [
    {
     "data": {
      "text/plain": [
       "array(['Yes', 'No'], dtype=object)"
      ]
     },
     "execution_count": 9,
     "metadata": {},
     "output_type": "execute_result"
    }
   ],
   "source": [
    "df['Smoker'].unique()"
   ]
  },
  {
   "cell_type": "code",
   "execution_count": 10,
   "id": "2481b236",
   "metadata": {},
   "outputs": [
    {
     "data": {
      "text/plain": [
       "array(['Urban', 'Rural'], dtype=object)"
      ]
     },
     "execution_count": 10,
     "metadata": {},
     "output_type": "execute_result"
    }
   ],
   "source": [
    "df['Region'].unique()"
   ]
  },
  {
   "cell_type": "code",
   "execution_count": 11,
   "id": "1a26c932",
   "metadata": {},
   "outputs": [
    {
     "data": {
      "text/plain": [
       "Gender            0\n",
       "Height            0\n",
       "Weight            0\n",
       "BMI               0\n",
       "Age               0\n",
       "Activity_Level    0\n",
       "Smoker            0\n",
       "Region            0\n",
       "dtype: int64"
      ]
     },
     "execution_count": 11,
     "metadata": {},
     "output_type": "execute_result"
    }
   ],
   "source": [
    "df.isnull().sum()"
   ]
  },
  {
   "cell_type": "markdown",
   "id": "57d68585",
   "metadata": {},
   "source": [
    "#### Good to go Now..."
   ]
  },
  {
   "cell_type": "code",
   "execution_count": 12,
   "id": "2339d677",
   "metadata": {},
   "outputs": [
    {
     "data": {
      "text/html": [
       "<div>\n",
       "<style scoped>\n",
       "    .dataframe tbody tr th:only-of-type {\n",
       "        vertical-align: middle;\n",
       "    }\n",
       "\n",
       "    .dataframe tbody tr th {\n",
       "        vertical-align: top;\n",
       "    }\n",
       "\n",
       "    .dataframe thead th {\n",
       "        text-align: right;\n",
       "    }\n",
       "</style>\n",
       "<table border=\"1\" class=\"dataframe\">\n",
       "  <thead>\n",
       "    <tr style=\"text-align: right;\">\n",
       "      <th></th>\n",
       "      <th>Gender</th>\n",
       "      <th>Height</th>\n",
       "      <th>Weight</th>\n",
       "      <th>Age</th>\n",
       "      <th>Activity_Level</th>\n",
       "      <th>Smoker</th>\n",
       "      <th>Region</th>\n",
       "      <th>BMI</th>\n",
       "    </tr>\n",
       "  </thead>\n",
       "  <tbody>\n",
       "    <tr>\n",
       "      <th>0</th>\n",
       "      <td>Male</td>\n",
       "      <td>174</td>\n",
       "      <td>96</td>\n",
       "      <td>56</td>\n",
       "      <td>Very Active</td>\n",
       "      <td>Yes</td>\n",
       "      <td>Urban</td>\n",
       "      <td>31.708284</td>\n",
       "    </tr>\n",
       "    <tr>\n",
       "      <th>1</th>\n",
       "      <td>Male</td>\n",
       "      <td>189</td>\n",
       "      <td>87</td>\n",
       "      <td>46</td>\n",
       "      <td>Very Active</td>\n",
       "      <td>No</td>\n",
       "      <td>Rural</td>\n",
       "      <td>24.355421</td>\n",
       "    </tr>\n",
       "    <tr>\n",
       "      <th>2</th>\n",
       "      <td>Female</td>\n",
       "      <td>185</td>\n",
       "      <td>110</td>\n",
       "      <td>32</td>\n",
       "      <td>Very Active</td>\n",
       "      <td>Yes</td>\n",
       "      <td>Rural</td>\n",
       "      <td>32.140248</td>\n",
       "    </tr>\n",
       "    <tr>\n",
       "      <th>3</th>\n",
       "      <td>Female</td>\n",
       "      <td>195</td>\n",
       "      <td>104</td>\n",
       "      <td>60</td>\n",
       "      <td>Very Active</td>\n",
       "      <td>Yes</td>\n",
       "      <td>Rural</td>\n",
       "      <td>27.350427</td>\n",
       "    </tr>\n",
       "    <tr>\n",
       "      <th>4</th>\n",
       "      <td>Male</td>\n",
       "      <td>149</td>\n",
       "      <td>61</td>\n",
       "      <td>25</td>\n",
       "      <td>Active</td>\n",
       "      <td>Yes</td>\n",
       "      <td>Urban</td>\n",
       "      <td>27.476240</td>\n",
       "    </tr>\n",
       "    <tr>\n",
       "      <th>...</th>\n",
       "      <td>...</td>\n",
       "      <td>...</td>\n",
       "      <td>...</td>\n",
       "      <td>...</td>\n",
       "      <td>...</td>\n",
       "      <td>...</td>\n",
       "      <td>...</td>\n",
       "      <td>...</td>\n",
       "    </tr>\n",
       "    <tr>\n",
       "      <th>495</th>\n",
       "      <td>Female</td>\n",
       "      <td>150</td>\n",
       "      <td>153</td>\n",
       "      <td>36</td>\n",
       "      <td>Lightly Active</td>\n",
       "      <td>No</td>\n",
       "      <td>Rural</td>\n",
       "      <td>68.000000</td>\n",
       "    </tr>\n",
       "    <tr>\n",
       "      <th>496</th>\n",
       "      <td>Female</td>\n",
       "      <td>184</td>\n",
       "      <td>121</td>\n",
       "      <td>49</td>\n",
       "      <td>Very Active</td>\n",
       "      <td>Yes</td>\n",
       "      <td>Urban</td>\n",
       "      <td>35.739603</td>\n",
       "    </tr>\n",
       "    <tr>\n",
       "      <th>497</th>\n",
       "      <td>Female</td>\n",
       "      <td>141</td>\n",
       "      <td>136</td>\n",
       "      <td>18</td>\n",
       "      <td>Lightly Active</td>\n",
       "      <td>Yes</td>\n",
       "      <td>Urban</td>\n",
       "      <td>68.407022</td>\n",
       "    </tr>\n",
       "    <tr>\n",
       "      <th>498</th>\n",
       "      <td>Male</td>\n",
       "      <td>150</td>\n",
       "      <td>95</td>\n",
       "      <td>22</td>\n",
       "      <td>Sedentary</td>\n",
       "      <td>Yes</td>\n",
       "      <td>Urban</td>\n",
       "      <td>42.222222</td>\n",
       "    </tr>\n",
       "    <tr>\n",
       "      <th>499</th>\n",
       "      <td>Male</td>\n",
       "      <td>173</td>\n",
       "      <td>131</td>\n",
       "      <td>62</td>\n",
       "      <td>Lightly Active</td>\n",
       "      <td>No</td>\n",
       "      <td>Urban</td>\n",
       "      <td>43.770256</td>\n",
       "    </tr>\n",
       "  </tbody>\n",
       "</table>\n",
       "<p>500 rows × 8 columns</p>\n",
       "</div>"
      ],
      "text/plain": [
       "     Gender  Height  Weight  Age  Activity_Level Smoker Region        BMI\n",
       "0      Male     174      96   56     Very Active    Yes  Urban  31.708284\n",
       "1      Male     189      87   46     Very Active     No  Rural  24.355421\n",
       "2    Female     185     110   32     Very Active    Yes  Rural  32.140248\n",
       "3    Female     195     104   60     Very Active    Yes  Rural  27.350427\n",
       "4      Male     149      61   25          Active    Yes  Urban  27.476240\n",
       "..      ...     ...     ...  ...             ...    ...    ...        ...\n",
       "495  Female     150     153   36  Lightly Active     No  Rural  68.000000\n",
       "496  Female     184     121   49     Very Active    Yes  Urban  35.739603\n",
       "497  Female     141     136   18  Lightly Active    Yes  Urban  68.407022\n",
       "498    Male     150      95   22       Sedentary    Yes  Urban  42.222222\n",
       "499    Male     173     131   62  Lightly Active     No  Urban  43.770256\n",
       "\n",
       "[500 rows x 8 columns]"
      ]
     },
     "execution_count": 12,
     "metadata": {},
     "output_type": "execute_result"
    }
   ],
   "source": [
    "# Moving Bmi to last\n",
    "df = df[['Gender', 'Height', 'Weight', 'Age', 'Activity_Level', 'Smoker','Region', 'BMI',]]\n",
    "df"
   ]
  },
  {
   "cell_type": "markdown",
   "id": "49a1e100",
   "metadata": {},
   "source": [
    "#### Encoding The data"
   ]
  },
  {
   "cell_type": "code",
   "execution_count": 13,
   "id": "4d7fc1cb",
   "metadata": {},
   "outputs": [],
   "source": [
    "from sklearn.model_selection import train_test_split\n",
    "from sklearn.preprocessing import StandardScaler"
   ]
  },
  {
   "cell_type": "code",
   "execution_count": 14,
   "id": "de1e55b9",
   "metadata": {},
   "outputs": [],
   "source": [
    "x = df[['Gender','Height', 'Weight', 'Age', 'Activity_Level', 'Smoker','Region']]\n",
    "y = df['BMI']\n",
    "x_train, x_test, y_train, y_test = train_test_split(x, y, test_size=0.2, random_state=False)"
   ]
  },
  {
   "cell_type": "code",
   "execution_count": 15,
   "id": "68a4204d",
   "metadata": {},
   "outputs": [
    {
     "data": {
      "text/html": [
       "<div>\n",
       "<style scoped>\n",
       "    .dataframe tbody tr th:only-of-type {\n",
       "        vertical-align: middle;\n",
       "    }\n",
       "\n",
       "    .dataframe tbody tr th {\n",
       "        vertical-align: top;\n",
       "    }\n",
       "\n",
       "    .dataframe thead th {\n",
       "        text-align: right;\n",
       "    }\n",
       "</style>\n",
       "<table border=\"1\" class=\"dataframe\">\n",
       "  <thead>\n",
       "    <tr style=\"text-align: right;\">\n",
       "      <th></th>\n",
       "      <th>Gender</th>\n",
       "      <th>Height</th>\n",
       "      <th>Weight</th>\n",
       "      <th>Age</th>\n",
       "      <th>Activity_Level</th>\n",
       "      <th>Smoker</th>\n",
       "      <th>Region</th>\n",
       "    </tr>\n",
       "  </thead>\n",
       "  <tbody>\n",
       "    <tr>\n",
       "      <th>90</th>\n",
       "      <td>Female</td>\n",
       "      <td>178</td>\n",
       "      <td>154</td>\n",
       "      <td>58</td>\n",
       "      <td>Sedentary</td>\n",
       "      <td>Yes</td>\n",
       "      <td>Urban</td>\n",
       "    </tr>\n",
       "    <tr>\n",
       "      <th>254</th>\n",
       "      <td>Male</td>\n",
       "      <td>183</td>\n",
       "      <td>147</td>\n",
       "      <td>57</td>\n",
       "      <td>Sedentary</td>\n",
       "      <td>Yes</td>\n",
       "      <td>Rural</td>\n",
       "    </tr>\n",
       "    <tr>\n",
       "      <th>283</th>\n",
       "      <td>Male</td>\n",
       "      <td>166</td>\n",
       "      <td>107</td>\n",
       "      <td>41</td>\n",
       "      <td>Very Active</td>\n",
       "      <td>Yes</td>\n",
       "      <td>Urban</td>\n",
       "    </tr>\n",
       "    <tr>\n",
       "      <th>445</th>\n",
       "      <td>Male</td>\n",
       "      <td>159</td>\n",
       "      <td>140</td>\n",
       "      <td>40</td>\n",
       "      <td>Sedentary</td>\n",
       "      <td>No</td>\n",
       "      <td>Urban</td>\n",
       "    </tr>\n",
       "    <tr>\n",
       "      <th>461</th>\n",
       "      <td>Male</td>\n",
       "      <td>152</td>\n",
       "      <td>132</td>\n",
       "      <td>39</td>\n",
       "      <td>Lightly Active</td>\n",
       "      <td>Yes</td>\n",
       "      <td>Urban</td>\n",
       "    </tr>\n",
       "    <tr>\n",
       "      <th>...</th>\n",
       "      <td>...</td>\n",
       "      <td>...</td>\n",
       "      <td>...</td>\n",
       "      <td>...</td>\n",
       "      <td>...</td>\n",
       "      <td>...</td>\n",
       "      <td>...</td>\n",
       "    </tr>\n",
       "    <tr>\n",
       "      <th>372</th>\n",
       "      <td>Male</td>\n",
       "      <td>185</td>\n",
       "      <td>60</td>\n",
       "      <td>64</td>\n",
       "      <td>Lightly Active</td>\n",
       "      <td>No</td>\n",
       "      <td>Urban</td>\n",
       "    </tr>\n",
       "    <tr>\n",
       "      <th>56</th>\n",
       "      <td>Male</td>\n",
       "      <td>172</td>\n",
       "      <td>92</td>\n",
       "      <td>52</td>\n",
       "      <td>Sedentary</td>\n",
       "      <td>Yes</td>\n",
       "      <td>Urban</td>\n",
       "    </tr>\n",
       "    <tr>\n",
       "      <th>440</th>\n",
       "      <td>Female</td>\n",
       "      <td>172</td>\n",
       "      <td>116</td>\n",
       "      <td>36</td>\n",
       "      <td>Active</td>\n",
       "      <td>Yes</td>\n",
       "      <td>Urban</td>\n",
       "    </tr>\n",
       "    <tr>\n",
       "      <th>60</th>\n",
       "      <td>Female</td>\n",
       "      <td>191</td>\n",
       "      <td>54</td>\n",
       "      <td>57</td>\n",
       "      <td>Sedentary</td>\n",
       "      <td>Yes</td>\n",
       "      <td>Rural</td>\n",
       "    </tr>\n",
       "    <tr>\n",
       "      <th>208</th>\n",
       "      <td>Male</td>\n",
       "      <td>191</td>\n",
       "      <td>96</td>\n",
       "      <td>19</td>\n",
       "      <td>Very Active</td>\n",
       "      <td>No</td>\n",
       "      <td>Rural</td>\n",
       "    </tr>\n",
       "  </tbody>\n",
       "</table>\n",
       "<p>100 rows × 7 columns</p>\n",
       "</div>"
      ],
      "text/plain": [
       "     Gender  Height  Weight  Age  Activity_Level Smoker Region\n",
       "90   Female     178     154   58       Sedentary    Yes  Urban\n",
       "254    Male     183     147   57       Sedentary    Yes  Rural\n",
       "283    Male     166     107   41     Very Active    Yes  Urban\n",
       "445    Male     159     140   40       Sedentary     No  Urban\n",
       "461    Male     152     132   39  Lightly Active    Yes  Urban\n",
       "..      ...     ...     ...  ...             ...    ...    ...\n",
       "372    Male     185      60   64  Lightly Active     No  Urban\n",
       "56     Male     172      92   52       Sedentary    Yes  Urban\n",
       "440  Female     172     116   36          Active    Yes  Urban\n",
       "60   Female     191      54   57       Sedentary    Yes  Rural\n",
       "208    Male     191      96   19     Very Active     No  Rural\n",
       "\n",
       "[100 rows x 7 columns]"
      ]
     },
     "execution_count": 15,
     "metadata": {},
     "output_type": "execute_result"
    }
   ],
   "source": [
    "x_test\n"
   ]
  },
  {
   "cell_type": "code",
   "execution_count": 16,
   "id": "23bd882c",
   "metadata": {},
   "outputs": [
    {
     "data": {
      "text/html": [
       "<div>\n",
       "<style scoped>\n",
       "    .dataframe tbody tr th:only-of-type {\n",
       "        vertical-align: middle;\n",
       "    }\n",
       "\n",
       "    .dataframe tbody tr th {\n",
       "        vertical-align: top;\n",
       "    }\n",
       "\n",
       "    .dataframe thead th {\n",
       "        text-align: right;\n",
       "    }\n",
       "</style>\n",
       "<table border=\"1\" class=\"dataframe\">\n",
       "  <thead>\n",
       "    <tr style=\"text-align: right;\">\n",
       "      <th></th>\n",
       "      <th>Gender</th>\n",
       "      <th>Height</th>\n",
       "      <th>Weight</th>\n",
       "      <th>Age</th>\n",
       "      <th>Activity_Level</th>\n",
       "      <th>Smoker</th>\n",
       "      <th>Region</th>\n",
       "    </tr>\n",
       "  </thead>\n",
       "  <tbody>\n",
       "    <tr>\n",
       "      <th>107</th>\n",
       "      <td>Male</td>\n",
       "      <td>159</td>\n",
       "      <td>154</td>\n",
       "      <td>52</td>\n",
       "      <td>Very Active</td>\n",
       "      <td>Yes</td>\n",
       "      <td>Urban</td>\n",
       "    </tr>\n",
       "    <tr>\n",
       "      <th>336</th>\n",
       "      <td>Female</td>\n",
       "      <td>167</td>\n",
       "      <td>153</td>\n",
       "      <td>50</td>\n",
       "      <td>Active</td>\n",
       "      <td>No</td>\n",
       "      <td>Urban</td>\n",
       "    </tr>\n",
       "    <tr>\n",
       "      <th>71</th>\n",
       "      <td>Male</td>\n",
       "      <td>178</td>\n",
       "      <td>117</td>\n",
       "      <td>27</td>\n",
       "      <td>Very Active</td>\n",
       "      <td>Yes</td>\n",
       "      <td>Urban</td>\n",
       "    </tr>\n",
       "    <tr>\n",
       "      <th>474</th>\n",
       "      <td>Female</td>\n",
       "      <td>167</td>\n",
       "      <td>79</td>\n",
       "      <td>47</td>\n",
       "      <td>Lightly Active</td>\n",
       "      <td>No</td>\n",
       "      <td>Rural</td>\n",
       "    </tr>\n",
       "    <tr>\n",
       "      <th>6</th>\n",
       "      <td>Male</td>\n",
       "      <td>147</td>\n",
       "      <td>92</td>\n",
       "      <td>56</td>\n",
       "      <td>Sedentary</td>\n",
       "      <td>No</td>\n",
       "      <td>Urban</td>\n",
       "    </tr>\n",
       "    <tr>\n",
       "      <th>...</th>\n",
       "      <td>...</td>\n",
       "      <td>...</td>\n",
       "      <td>...</td>\n",
       "      <td>...</td>\n",
       "      <td>...</td>\n",
       "      <td>...</td>\n",
       "      <td>...</td>\n",
       "    </tr>\n",
       "    <tr>\n",
       "      <th>323</th>\n",
       "      <td>Male</td>\n",
       "      <td>187</td>\n",
       "      <td>140</td>\n",
       "      <td>47</td>\n",
       "      <td>Sedentary</td>\n",
       "      <td>No</td>\n",
       "      <td>Rural</td>\n",
       "    </tr>\n",
       "    <tr>\n",
       "      <th>192</th>\n",
       "      <td>Male</td>\n",
       "      <td>165</td>\n",
       "      <td>105</td>\n",
       "      <td>50</td>\n",
       "      <td>Active</td>\n",
       "      <td>No</td>\n",
       "      <td>Rural</td>\n",
       "    </tr>\n",
       "    <tr>\n",
       "      <th>117</th>\n",
       "      <td>Female</td>\n",
       "      <td>146</td>\n",
       "      <td>104</td>\n",
       "      <td>29</td>\n",
       "      <td>Active</td>\n",
       "      <td>No</td>\n",
       "      <td>Rural</td>\n",
       "    </tr>\n",
       "    <tr>\n",
       "      <th>47</th>\n",
       "      <td>Male</td>\n",
       "      <td>181</td>\n",
       "      <td>111</td>\n",
       "      <td>43</td>\n",
       "      <td>Lightly Active</td>\n",
       "      <td>No</td>\n",
       "      <td>Urban</td>\n",
       "    </tr>\n",
       "    <tr>\n",
       "      <th>172</th>\n",
       "      <td>Male</td>\n",
       "      <td>167</td>\n",
       "      <td>151</td>\n",
       "      <td>61</td>\n",
       "      <td>Sedentary</td>\n",
       "      <td>No</td>\n",
       "      <td>Rural</td>\n",
       "    </tr>\n",
       "  </tbody>\n",
       "</table>\n",
       "<p>400 rows × 7 columns</p>\n",
       "</div>"
      ],
      "text/plain": [
       "     Gender  Height  Weight  Age  Activity_Level Smoker Region\n",
       "107    Male     159     154   52     Very Active    Yes  Urban\n",
       "336  Female     167     153   50          Active     No  Urban\n",
       "71     Male     178     117   27     Very Active    Yes  Urban\n",
       "474  Female     167      79   47  Lightly Active     No  Rural\n",
       "6      Male     147      92   56       Sedentary     No  Urban\n",
       "..      ...     ...     ...  ...             ...    ...    ...\n",
       "323    Male     187     140   47       Sedentary     No  Rural\n",
       "192    Male     165     105   50          Active     No  Rural\n",
       "117  Female     146     104   29          Active     No  Rural\n",
       "47     Male     181     111   43  Lightly Active     No  Urban\n",
       "172    Male     167     151   61       Sedentary     No  Rural\n",
       "\n",
       "[400 rows x 7 columns]"
      ]
     },
     "execution_count": 16,
     "metadata": {},
     "output_type": "execute_result"
    }
   ],
   "source": [
    "x_train"
   ]
  },
  {
   "cell_type": "code",
   "execution_count": 17,
   "id": "04c54800",
   "metadata": {},
   "outputs": [
    {
     "data": {
      "text/plain": [
       "107    60.915312\n",
       "336    54.860339\n",
       "71     36.927156\n",
       "474    28.326580\n",
       "6      42.574853\n",
       "         ...    \n",
       "323    40.035460\n",
       "192    38.567493\n",
       "117    48.789642\n",
       "47     33.881750\n",
       "172    54.143211\n",
       "Name: BMI, Length: 400, dtype: float64"
      ]
     },
     "execution_count": 17,
     "metadata": {},
     "output_type": "execute_result"
    }
   ],
   "source": [
    "y_train"
   ]
  },
  {
   "cell_type": "code",
   "execution_count": 18,
   "id": "f8912192",
   "metadata": {},
   "outputs": [
    {
     "data": {
      "text/plain": [
       "90     48.604974\n",
       "254    43.895010\n",
       "283    38.830019\n",
       "445    55.377556\n",
       "461    57.132964\n",
       "         ...    \n",
       "372    17.531045\n",
       "56     31.097891\n",
       "440    39.210384\n",
       "60     14.802226\n",
       "208    26.315068\n",
       "Name: BMI, Length: 100, dtype: float64"
      ]
     },
     "execution_count": 18,
     "metadata": {},
     "output_type": "execute_result"
    }
   ],
   "source": [
    "y_test"
   ]
  },
  {
   "cell_type": "code",
   "execution_count": 19,
   "id": "916fa177",
   "metadata": {},
   "outputs": [
    {
     "name": "stdout",
     "output_type": "stream",
     "text": [
      "Test MSE: 5.56\n"
     ]
    }
   ],
   "source": [
    "from sklearn.preprocessing import OneHotEncoder\n",
    "from sklearn.compose import ColumnTransformer\n",
    "\n",
    "categorical_val = ['Gender', 'Activity_Level', 'Smoker', 'Region']\n",
    "numeric_val = ['Height', 'Weight', 'Age']\n",
    "\n",
    "preprocessor = ColumnTransformer(\n",
    "    transformers=[\n",
    "        ('cat', OneHotEncoder(drop='first'), categorical_val),\n",
    "        ('num', 'passthrough', numeric_val)\n",
    "    ]\n",
    ")\n",
    "\n",
    "x_train_enc = preprocessor.fit_transform(x_train)\n",
    "x_test_enc = preprocessor.transform(x_test)\n",
    "\n",
    "from sklearn.linear_model import LinearRegression\n",
    "model = LinearRegression()\n",
    "model.fit(x_train_enc, y_train)\n",
    "\n",
    "y_pred = model.predict(x_test_enc)\n",
    "\n",
    "from sklearn.metrics import mean_squared_error\n",
    "mse = mean_squared_error(y_test, y_pred)\n",
    "\n",
    "print(f\"Test MSE: {mse:.2f}\")\n"
   ]
  }
 ],
 "metadata": {
  "kernelspec": {
   "display_name": "venv",
   "language": "python",
   "name": "python3"
  },
  "language_info": {
   "codemirror_mode": {
    "name": "ipython",
    "version": 3
   },
   "file_extension": ".py",
   "mimetype": "text/x-python",
   "name": "python",
   "nbconvert_exporter": "python",
   "pygments_lexer": "ipython3",
   "version": "3.12.2"
  }
 },
 "nbformat": 4,
 "nbformat_minor": 5
}
