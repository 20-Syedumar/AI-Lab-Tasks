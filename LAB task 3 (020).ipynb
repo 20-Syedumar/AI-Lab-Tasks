{
 "cells": [
  {
   "cell_type": "code",
   "execution_count": null,
   "metadata": {},
   "outputs": [],
   "source": [
    "#Task 3:"
   ]
  },
  {
   "cell_type": "code",
   "execution_count": 5,
   "metadata": {},
   "outputs": [
    {
     "name": "stdout",
     "output_type": "stream",
     "text": [
      "Write the current temperature of room:\n",
      "The heater is off!\n"
     ]
    }
   ],
   "source": [
    "temp= print(\"Write the current temperature of room:\")\n",
    "temp=int(input(\"Temp in celsius:\"))\n",
    "\n",
    "if temp > 22:\n",
    "    print(\"The heater is off!\")\n",
    "elif temp < 22:\n",
    "    print(\"The Heater is on!\")\n",
    "elif temp== 22:\n",
    "    print(\"Temp is ideal!\")\n",
    "else:\n",
    "    print()"
   ]
  },
  {
   "cell_type": "code",
   "execution_count": 9,
   "metadata": {},
   "outputs": [
    {
     "name": "stdout",
     "output_type": "stream",
     "text": [
      "The heater is On!\n"
     ]
    }
   ],
   "source": [
    "class SimpleReflexAgent:\n",
    "    def __init__(self,temp):\n",
    "        self.desired_temp = temp\n",
    "    \n",
    "    def preceive(self):\n",
    "        return int(input(\"Enter the current temp!\"))\n",
    "    \n",
    "    def act(self,temp):\n",
    "        if temp > self.desired_temp:\n",
    "            print(\"The heater is Off!\")\n",
    "        else:\n",
    "            print(\"The heater is On!\")\n",
    "\n",
    "desired_temp = int(input(\"Enter desired temp:\"))\n",
    "agent = SimpleReflexAgent(desired_temp)\n",
    "curr_temp = agent.preceive()\n",
    "agent.act(curr_temp)"
   ]
  }
 ],
 "metadata": {
  "kernelspec": {
   "display_name": "Python 3",
   "language": "python",
   "name": "python3"
  },
  "language_info": {
   "codemirror_mode": {
    "name": "ipython",
    "version": 3
   },
   "file_extension": ".py",
   "mimetype": "text/x-python",
   "name": "python",
   "nbconvert_exporter": "python",
   "pygments_lexer": "ipython3",
   "version": "3.12.2"
  }
 },
 "nbformat": 4,
 "nbformat_minor": 2
}
