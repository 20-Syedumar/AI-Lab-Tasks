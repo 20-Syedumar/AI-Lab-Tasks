{
 "cells": [
  {
   "cell_type": "code",
   "execution_count": null,
   "metadata": {},
   "outputs": [
    {
     "name": "stdout",
     "output_type": "stream",
     "text": [
      "4\n"
     ]
    }
   ],
   "source": [
    "#Task 8 Min Max Algorithm:\n",
    "import math\n",
    "\n",
    "def MinMaxAlgo(currNode, nodeIndex, maxTurn, LeafNodes, nodeDepth):\n",
    "    if (currNode == nodeDepth):\n",
    "        return LeafNodes[nodeIndex]\n",
    "    \n",
    "    if maxTurn:\n",
    "        return max(MinMaxAlgo(currNode+1, nodeIndex*2, False, LeafNodes, nodeDepth),\n",
    "                   MinMaxAlgo(currNode+1, nodeIndex*2+1, False, LeafNodes, nodeDepth))\n",
    "    else:\n",
    "        return min(MinMaxAlgo(currNode+1, nodeIndex*2, True, LeafNodes, nodeDepth),\n",
    "                   MinMaxAlgo(currNode+1, nodeIndex*2+1, True, LeafNodes, nodeDepth))\n",
    "LeafNodes = [2, 4, 6, 4, 2, 4, 6, 4]\n",
    "\n",
    "nodeDepth = int(math.log2(len(LeafNodes)))\n",
    "\n",
    "print(MinMaxAlgo(0, 0, True, LeafNodes, nodeDepth))"
   ]
  },
  {
   "cell_type": "code",
   "execution_count": null,
   "metadata": {},
   "outputs": [],
   "source": []
  }
 ],
 "metadata": {
  "kernelspec": {
   "display_name": "Python 3",
   "language": "python",
   "name": "python3"
  },
  "language_info": {
   "codemirror_mode": {
    "name": "ipython",
    "version": 3
   },
   "file_extension": ".py",
   "mimetype": "text/x-python",
   "name": "python",
   "nbconvert_exporter": "python",
   "pygments_lexer": "ipython3",
   "version": "3.12.2"
  }
 },
 "nbformat": 4,
 "nbformat_minor": 2
}
