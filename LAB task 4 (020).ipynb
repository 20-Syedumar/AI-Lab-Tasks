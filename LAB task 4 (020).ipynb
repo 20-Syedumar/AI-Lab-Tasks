{
 "cells": [
  {
   "cell_type": "code",
   "execution_count": null,
   "metadata": {},
   "outputs": [
    {
     "name": "stdout",
     "output_type": "stream",
     "text": [
      "INVALID\n"
     ]
    }
   ],
   "source": [
    "#LUHN Algorithm:\n",
    "def card_validity(input):\n",
    "    input = input[::-1]\n",
    "\n",
    "    input = [int(x) for x in input]\n",
    "\n",
    "    for i in range(1, len(input), 2):\n",
    "        input[i] *= 2 \n",
    "\n",
    "        if input[i] > 9:\n",
    "            input[i] -= 9\n",
    "    total = sum(input)\n",
    "\n",
    "    if total % 10 == 0:\n",
    "        print(\"VALID\")\n",
    "    else:\n",
    "        print(\"INVALID\")       \n",
    "\n",
    "card_validity(\"0030014598763254\")"
   ]
  },
  {
   "cell_type": "code",
   "execution_count": 7,
   "metadata": {},
   "outputs": [
    {
     "name": "stdout",
     "output_type": "stream",
     "text": [
      "Normal sentence: Hi, How may i help you?\n",
      "With out punctuations: Hi How may i help you\n"
     ]
    }
   ],
   "source": [
    "#Remove Punctuation:\n",
    "def remove_punctuation(text):\n",
    "    punctuations = \"!()-[]{};:',<>./=+-?\"\n",
    "    result = \"\"\n",
    "\n",
    "    for char in text:\n",
    "        if char not in punctuations:\n",
    "            result += char\n",
    "\n",
    "    return result\n",
    "\n",
    "text = \"Hi, How may i help you?\"\n",
    "clean = remove_punctuation(text)\n",
    "print(f\"Normal sentence: {text}\")\n",
    "print(f\"With out punctuations: {clean}\")\n"
   ]
  },
  {
   "cell_type": "code",
   "execution_count": 11,
   "metadata": {},
   "outputs": [
    {
     "name": "stdout",
     "output_type": "stream",
     "text": [
      "Original Sentence: playing I like\n",
      "Sorted Sentence: Ilikeplaying\n"
     ]
    }
   ],
   "source": [
    "#Sorting Alphabets:\n",
    "def new_sentence(sentence):\n",
    "    words = sentence.split(' ')\n",
    "    words.sort()\n",
    "    sorted = \"\".join(words)\n",
    "    return sorted \n",
    "\n",
    "sentence = \"playing I like\"\n",
    "sorted_result = new_sentence(sentence)\n",
    "print(\"Original Sentence:\", sentence)\n",
    "print(\"Sorted Sentence:\", sorted_result)\n"
   ]
  },
  {
   "cell_type": "code",
   "execution_count": null,
   "metadata": {},
   "outputs": [],
   "source": []
  }
 ],
 "metadata": {
  "kernelspec": {
   "display_name": "Python 3",
   "language": "python",
   "name": "python3"
  },
  "language_info": {
   "codemirror_mode": {
    "name": "ipython",
    "version": 3
   },
   "file_extension": ".py",
   "mimetype": "text/x-python",
   "name": "python",
   "nbconvert_exporter": "python",
   "pygments_lexer": "ipython3",
   "version": "3.12.2"
  }
 },
 "nbformat": 4,
 "nbformat_minor": 2
}
