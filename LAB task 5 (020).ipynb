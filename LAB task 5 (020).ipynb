{
 "cells": [
  {
   "cell_type": "code",
   "execution_count": 2,
   "metadata": {},
   "outputs": [
    {
     "name": "stdout",
     "output_type": "stream",
     "text": [
      "A B D E F C "
     ]
    }
   ],
   "source": [
    "#DFS with Stack and Node:\n",
    "def dfs(graph, start_node):\n",
    "    stack = [start_node]\n",
    "    visited = []\n",
    "    while stack:\n",
    "        current_node = stack.pop()\n",
    "        if current_node not in visited:\n",
    "            visited.append(current_node)\n",
    "            stack.extend(reversed(graph[current_node]))\n",
    "            print(current_node, end=' ')\n",
    "\n",
    "new_graph = {\n",
    "    'A': ['B', 'C'],\n",
    "    'B': ['D', 'E'],\n",
    "    'C': ['F'],\n",
    "    'D': [],\n",
    "    'E': ['F'],\n",
    "    'F': []\n",
    "}\n",
    "\n",
    "dfs(new_graph, 'A')"
   ]
  },
  {
   "cell_type": "markdown",
   "metadata": {},
   "source": [
    "#Inorder, Preorder, and Postorder are tree traversal techniques used in Depth-First Search (DFS) for trees.\n",
    "\n",
    "#Preorder (Root → Left → Right): Visit the root first, then the left subtree, and finally the right subtree.\n",
    "\n",
    "#Inorder (Left → Root → Right): Visit the left subtree first, then the root, and finally the right subtree.\n",
    "\n",
    "#Postorder (Left → Right → Root): Visit the left subtree first, then the right subtree, and finally the root."
   ]
  }
 ],
 "metadata": {
  "kernelspec": {
   "display_name": "Python 3",
   "language": "python",
   "name": "python3"
  },
  "language_info": {
   "codemirror_mode": {
    "name": "ipython",
    "version": 3
   },
   "file_extension": ".py",
   "mimetype": "text/x-python",
   "name": "python",
   "nbconvert_exporter": "python",
   "pygments_lexer": "ipython3",
   "version": "3.12.2"
  }
 },
 "nbformat": 4,
 "nbformat_minor": 2
}
