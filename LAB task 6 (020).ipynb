{
 "cells": [
  {
   "cell_type": "code",
   "execution_count": 5,
   "metadata": {},
   "outputs": [
    {
     "name": "stdout",
     "output_type": "stream",
     "text": [
      "1 2 3 4 "
     ]
    }
   ],
   "source": [
    "#BFS without Queue and without Node:\n",
    "def bfs(graph, visited, nodes):\n",
    "    if not nodes:\n",
    "        return\n",
    "    \n",
    "    next_nodes = []\n",
    "    for node in nodes:\n",
    "        if node not in visited:\n",
    "            print(node, end=\" \")\n",
    "            visited.append(node)\n",
    "            next_nodes.extend(graph[node])\n",
    "    bfs(graph, visited, next_nodes)\n",
    "        \n",
    "graph = {\n",
    "    \"1\" : [\"2\",\"3\"],\n",
    "    \"2\" : [\"4\"],\n",
    "    \"3\" : [\"4\"],\n",
    "    \"4\" : [],\n",
    "}\n",
    "\n",
    "bfs(graph,list(), \"1\")"
   ]
  },
  {
   "cell_type": "code",
   "execution_count": 4,
   "metadata": {},
   "outputs": [
    {
     "name": "stdout",
     "output_type": "stream",
     "text": [
      "1 2 3 4 "
     ]
    }
   ],
   "source": [
    "# BFS with queue and with node:\n",
    "def bfs(graph, start):\n",
    "    queue = [start]\n",
    "    visited = []\n",
    "\n",
    "    while queue:\n",
    "        node = queue.pop(0)\n",
    "        if node not in visited:\n",
    "            visited.append(node)\n",
    "            queue.extend(graph[node])\n",
    "            print(node, end=\" \")\n",
    "\n",
    "graph = {\n",
    "    \"1\" : [\"2\",\"3\"],\n",
    "    \"2\" : [\"4\"],\n",
    "    \"3\" : [\"4\"],\n",
    "    \"4\" : []\n",
    "}\n",
    "\n",
    "bfs(graph, \"1\")"
   ]
  },
  {
   "cell_type": "code",
   "execution_count": null,
   "metadata": {},
   "outputs": [],
   "source": []
  }
 ],
 "metadata": {
  "kernelspec": {
   "display_name": "Python 3",
   "language": "python",
   "name": "python3"
  },
  "language_info": {
   "codemirror_mode": {
    "name": "ipython",
    "version": 3
   },
   "file_extension": ".py",
   "mimetype": "text/x-python",
   "name": "python",
   "nbconvert_exporter": "python",
   "pygments_lexer": "ipython3",
   "version": "3.12.2"
  }
 },
 "nbformat": 4,
 "nbformat_minor": 2
}
